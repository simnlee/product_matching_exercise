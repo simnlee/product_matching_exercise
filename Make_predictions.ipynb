{
 "cells": [
  {
   "cell_type": "code",
   "execution_count": 4,
   "metadata": {},
   "outputs": [],
   "source": [
    "import getpass\n",
    "import os\n",
    "\n",
    "os.environ[\"OPENAI_API_KEY\"] = getpass.getpass()"
   ]
  },
  {
   "cell_type": "code",
   "execution_count": 5,
   "metadata": {},
   "outputs": [],
   "source": [
    "from langchain_openai import OpenAIEmbeddings\n",
    "from langchain_chroma import Chroma\n",
    "\n",
    "embeddings = OpenAIEmbeddings(model=\"text-embedding-3-small\")\n",
    "vector_store = Chroma(\n",
    "    collection_name=\"collection2\",\n",
    "    embedding_function=embeddings,\n",
    "    persist_directory=\"./chrome_vector_db\",\n",
    ")"
   ]
  },
  {
   "cell_type": "code",
   "execution_count": 6,
   "metadata": {},
   "outputs": [],
   "source": [
    "from pydantic import BaseModel, Field\n",
    "from typing import Optional\n",
    "\n",
    "class Attributes(BaseModel):\n",
    "    length: Optional[float] = Field(default=None, description=\"length in inches. if the name uses different units, convert to inches\")\n",
    "    gauge: Optional[int] = Field(default=None, description=\"gauge in inches. for example, 20ga or 20g refers to 20 gauge\") "
   ]
  },
  {
   "cell_type": "code",
   "execution_count": 7,
   "metadata": {},
   "outputs": [],
   "source": [
    "from langchain_openai import ChatOpenAI\n",
    "from langchain_core.prompts.chat import ChatPromptTemplate\n",
    "\n",
    "model = ChatOpenAI(model=\"gpt-4o-mini-2024-07-18\", temperature=0)\n",
    "structured_llm = model.with_structured_output(Attributes)\n",
    "get_attr_prompt_template = ChatPromptTemplate.from_template(\"Parse all given attributes from the given product name. If the attribute isn't present in the name, or you are unsure, then leave it as None. If a measurement is written like 2-1/2IN, then the measurement is 2.5 in. \\nProduct Name: {product_name}\")"
   ]
  },
  {
   "cell_type": "code",
   "execution_count": 14,
   "metadata": {},
   "outputs": [],
   "source": [
    "product = \"[CB] Corner Bead - paper faced, 10'\"\n",
    "get_attr_prompt = get_attr_prompt_template.invoke({'product_name': product})\n",
    "parsed_attributes = structured_llm.invoke(get_attr_prompt)\n",
    "attr_dict = dict(parsed_attributes)\n",
    "filter = {key:{'$eq':val} for key, val in attr_dict.items() if val is not None}\n",
    "results = vector_store.similarity_search(\n",
    "    product,\n",
    "    filter = filter,\n",
    "    k=10,\n",
    ")"
   ]
  },
  {
   "cell_type": "code",
   "execution_count": 15,
   "metadata": {},
   "outputs": [
    {
     "data": {
      "text/plain": [
       "{'length': {'$eq': 120.0}}"
      ]
     },
     "execution_count": 15,
     "metadata": {},
     "output_type": "execute_result"
    }
   ],
   "source": [
    "filter"
   ]
  },
  {
   "cell_type": "code",
   "execution_count": 16,
   "metadata": {},
   "outputs": [
    {
     "data": {
      "text/plain": [
       "[Document(id='bfa18b42-43d4-4260-9da2-f24c956a0621', metadata={'PRODUCT_NO': 534360, 'length': 120.0}, page_content='10FT PAPER-FACED BULLNOSE CORNER BEAD nan'),\n",
       " Document(id='d57cb0d4-3a34-40c2-9870-64afbbb77d88', metadata={'PRODUCT_NO': 43403, 'length': 120.0}, page_content='#1A EXPANDED CORNER BEAD 10FT nan'),\n",
       " Document(id='49a4b8ed-1140-4a5a-81ff-77152ff5bad9', metadata={'PRODUCT_NO': 43407, 'gauge': 2, 'length': 120.0}, page_content='#2A EXPANDED CORNER BEAD 10FT nan'),\n",
       " Document(id='4ae15ec2-2a67-4ea6-8033-2554fe84c6f7', metadata={'PRODUCT_NO': 219681, 'length': 120.0}, page_content='10FT VINYL DRYWALL CORNER BEAD nan'),\n",
       " Document(id='bc9663d8-6fe4-4dd4-8484-410410c1113a', metadata={'PRODUCT_NO': 202564, 'length': 120.0}, page_content='10FT GALVANIZED DRYWALL CORNER BEAD nan'),\n",
       " Document(id='9677c0a1-22b8-4f8e-b13d-6c1389be26db', metadata={'PRODUCT_NO': 437481, 'length': 120.0}, page_content='10FT VINYL BULLNOSE CORNER BEAD nan'),\n",
       " Document(id='8118098c-3abc-4fef-be0f-a3a8eea2b1f4', metadata={'PRODUCT_NO': 116154, 'length': 120.0}, page_content='10FT GALVANIZED BULLNOSE CORNER BEAD nan'),\n",
       " Document(id='ee936be1-9318-4649-b7dc-2e088cf0676f', metadata={'PRODUCT_NO': 123161, 'length': 120.0}, page_content='10FT VINYL BULLNOSE ARCH CORNER BEAD nan'),\n",
       " Document(id='a4c7c2e5-4844-4863-8e33-54357ba27cf9', metadata={'PRODUCT_NO': 373015, 'length': 120.0}, page_content='10FT GALV 120 DEGREE ANGLE CORNERBEAD nan'),\n",
       " Document(id='fc19c403-b23a-42e4-9ba8-d6155a3b8214', metadata={'PRODUCT_NO': 43522, 'gauge': 30, 'length': 120.0}, page_content='#30 CORNER CONTROL JOINT 3/4 IN X 10FT nan')]"
      ]
     },
     "execution_count": 16,
     "metadata": {},
     "output_type": "execute_result"
    }
   ],
   "source": [
    "results"
   ]
  },
  {
   "cell_type": "code",
   "execution_count": 17,
   "metadata": {},
   "outputs": [],
   "source": [
    "import pandas as pd\n",
    "labels_df = pd.read_csv('documents/Request-Response 1/labels.csv')"
   ]
  },
  {
   "cell_type": "code",
   "execution_count": 39,
   "metadata": {},
   "outputs": [],
   "source": [
    "def prediction(product: str):\n",
    "    get_attr_prompt = get_attr_prompt_template.invoke({'product_name': product})\n",
    "    parsed_attributes = structured_llm.invoke(get_attr_prompt)\n",
    "    attr_dict = dict(parsed_attributes)\n",
    "    filter = {'$or': [{key:{'$eq':val}} for key, val in attr_dict.items() if val is not None]}\n",
    "    results = vector_store.similarity_search(\n",
    "        product,\n",
    "        k=10,\n",
    "    )\n",
    "    res = [name.metadata['PRODUCT_NO'] for name in results]\n",
    "    return res"
   ]
  },
  {
   "cell_type": "code",
   "execution_count": 40,
   "metadata": {},
   "outputs": [
    {
     "name": "stdout",
     "output_type": "stream",
     "text": [
      "0\n",
      "1\n",
      "2\n",
      "3\n",
      "4\n",
      "5\n",
      "6\n",
      "7\n",
      "8\n",
      "9\n",
      "10\n",
      "11\n",
      "12\n",
      "13\n",
      "14\n",
      "15\n",
      "16\n",
      "17\n",
      "18\n",
      "19\n",
      "20\n",
      "21\n",
      "22\n",
      "23\n",
      "24\n"
     ]
    }
   ],
   "source": [
    "guesses = []\n",
    "for index, row in labels_df.iterrows():\n",
    "    print(index)\n",
    "    product = row['Customer Name']\n",
    "    pred = prediction(product)\n",
    "    guesses.append(pred)"
   ]
  },
  {
   "cell_type": "code",
   "execution_count": 41,
   "metadata": {},
   "outputs": [],
   "source": [
    "labels_df['Predictions'] = guesses"
   ]
  },
  {
   "cell_type": "code",
   "execution_count": 42,
   "metadata": {},
   "outputs": [
    {
     "data": {
      "text/html": [
       "<div>\n",
       "<style scoped>\n",
       "    .dataframe tbody tr th:only-of-type {\n",
       "        vertical-align: middle;\n",
       "    }\n",
       "\n",
       "    .dataframe tbody tr th {\n",
       "        vertical-align: top;\n",
       "    }\n",
       "\n",
       "    .dataframe thead th {\n",
       "        text-align: right;\n",
       "    }\n",
       "</style>\n",
       "<table border=\"1\" class=\"dataframe\">\n",
       "  <thead>\n",
       "    <tr style=\"text-align: right;\">\n",
       "      <th></th>\n",
       "      <th>Customer Name</th>\n",
       "      <th>Product No</th>\n",
       "      <th>Predictions</th>\n",
       "    </tr>\n",
       "  </thead>\n",
       "  <tbody>\n",
       "    <tr>\n",
       "      <th>0</th>\n",
       "      <td>[CB] Corner Bead - paper faced, 10'</td>\n",
       "      <td>37506</td>\n",
       "      <td>[182624, 534298, 534360, 309122, 432623, 43403...</td>\n",
       "    </tr>\n",
       "    <tr>\n",
       "      <th>1</th>\n",
       "      <td>[T35820] 3-5/8\" 20ga Track, 10'</td>\n",
       "      <td>264033</td>\n",
       "      <td>[541212, 200144, 55385, 55352, 55353, 55354, 2...</td>\n",
       "    </tr>\n",
       "    <tr>\n",
       "      <th>2</th>\n",
       "      <td>[S35820] 3-5/8\" 20ga Stud</td>\n",
       "      <td>261033</td>\n",
       "      <td>[541193, 541128, 420204, 200141, 423855, 43053...</td>\n",
       "    </tr>\n",
       "    <tr>\n",
       "      <th>3</th>\n",
       "      <td>[T35820SLOTTED] 3-5/8\" 20ga Slotted track, 10'</td>\n",
       "      <td>76033</td>\n",
       "      <td>[541212, 200144, 55385, 55352, 55353, 55354, 4...</td>\n",
       "    </tr>\n",
       "    <tr>\n",
       "      <th>4</th>\n",
       "      <td>[T620] 6\" 20ga Track, 10'</td>\n",
       "      <td>264063</td>\n",
       "      <td>[541212, 4063, 200144, 55385, 40203, 4013, 301...</td>\n",
       "    </tr>\n",
       "    <tr>\n",
       "      <th>5</th>\n",
       "      <td>[S620] 6\" 20ga Stud</td>\n",
       "      <td>261063</td>\n",
       "      <td>[541128, 541193, 420204, 200141, 1043, 261063,...</td>\n",
       "    </tr>\n",
       "    <tr>\n",
       "      <th>6</th>\n",
       "      <td>[T620] 6\" 20ga Track, 10'</td>\n",
       "      <td>76063</td>\n",
       "      <td>[541212, 4063, 200144, 55385, 40203, 4013, 301...</td>\n",
       "    </tr>\n",
       "    <tr>\n",
       "      <th>7</th>\n",
       "      <td>[T15820] 1-5/8\" 20ga Track, 10'</td>\n",
       "      <td>264013</td>\n",
       "      <td>[200144, 541212, 3013, 4013, 445184, 228997, 5...</td>\n",
       "    </tr>\n",
       "    <tr>\n",
       "      <th>8</th>\n",
       "      <td>[S15820] 1-5/8\" 20ga Stud</td>\n",
       "      <td>261013</td>\n",
       "      <td>[200141, 420204, 541128, 541193, 1013, 230867,...</td>\n",
       "    </tr>\n",
       "    <tr>\n",
       "      <th>9</th>\n",
       "      <td>[T15820] 1-5/8\" 20ga Track, 10'</td>\n",
       "      <td>266013</td>\n",
       "      <td>[200144, 541212, 3013, 4013, 445184, 228997, 5...</td>\n",
       "    </tr>\n",
       "    <tr>\n",
       "      <th>10</th>\n",
       "      <td>[CH21220] 2-1/2\" 20ga CH-Stud</td>\n",
       "      <td>43253</td>\n",
       "      <td>[230966, 541193, 420204, 1023, 2023, 541128, 4...</td>\n",
       "    </tr>\n",
       "    <tr>\n",
       "      <th>11</th>\n",
       "      <td>[JT21220] 2-1/2\" 20ga J-Runner, 10'</td>\n",
       "      <td>94132</td>\n",
       "      <td>[40200, 42223, 228997, 4023, 541212, 3013, 200...</td>\n",
       "    </tr>\n",
       "    <tr>\n",
       "      <th>12</th>\n",
       "      <td>[FS620] 6\" 20 ga. Flat Stock, 10'</td>\n",
       "      <td>50063</td>\n",
       "      <td>[4063, 541128, 420204, 541193, 200141, 56199, ...</td>\n",
       "    </tr>\n",
       "    <tr>\n",
       "      <th>13</th>\n",
       "      <td>[BDCHZ] Corner Bead Horizontal - paper faced, 8'</td>\n",
       "      <td>37506</td>\n",
       "      <td>[182624, 534298, 534360, 43401, 423629, 43402,...</td>\n",
       "    </tr>\n",
       "    <tr>\n",
       "      <th>14</th>\n",
       "      <td>[T35818SLOTTED] 3-5/8\" 18ga Slotted Track, 10'</td>\n",
       "      <td>75035</td>\n",
       "      <td>[541212, 200144, 55352, 55353, 55385, 55354, 5...</td>\n",
       "    </tr>\n",
       "    <tr>\n",
       "      <th>15</th>\n",
       "      <td>[T35818] 3-5/8\" 18ga Track, 10'</td>\n",
       "      <td>80035</td>\n",
       "      <td>[541212, 200144, 55352, 55354, 55353, 55385, 2...</td>\n",
       "    </tr>\n",
       "    <tr>\n",
       "      <th>16</th>\n",
       "      <td>[S35818] 3-5/8\" 18ga Stud, 21'</td>\n",
       "      <td>15035</td>\n",
       "      <td>[541193, 541128, 423855, 420204, 200141, 43054...</td>\n",
       "    </tr>\n",
       "    <tr>\n",
       "      <th>17</th>\n",
       "      <td>[T618] 6\" 18ga Track, 10'</td>\n",
       "      <td>80065</td>\n",
       "      <td>[541212, 200144, 55352, 55602, 4063, 228997, 4...</td>\n",
       "    </tr>\n",
       "    <tr>\n",
       "      <th>18</th>\n",
       "      <td>[S618] 6\" 18ga Stud</td>\n",
       "      <td>15065</td>\n",
       "      <td>[541128, 200141, 15065, 541193, 420204, 31065,...</td>\n",
       "    </tr>\n",
       "    <tr>\n",
       "      <th>19</th>\n",
       "      <td>[BLACKIRON] CRC Galv 1-1/2\" 16 Ga Horizontal, 10'</td>\n",
       "      <td>30026</td>\n",
       "      <td>[402790, 216251, 216248, 40026, 56368, 534153,...</td>\n",
       "    </tr>\n",
       "    <tr>\n",
       "      <th>20</th>\n",
       "      <td>[T618CLG] 6\" 18ga Track @ clg framing, 10'</td>\n",
       "      <td>80065</td>\n",
       "      <td>[541212, 200144, 4063, 3013, 4013, 55352, 5560...</td>\n",
       "    </tr>\n",
       "    <tr>\n",
       "      <th>21</th>\n",
       "      <td>[S618CLG] 6\" 18ga Stud @ ceilings, 8'</td>\n",
       "      <td>15065</td>\n",
       "      <td>[1061, 43064, 1011, 1021, 2021, 200141, 261063...</td>\n",
       "    </tr>\n",
       "    <tr>\n",
       "      <th>22</th>\n",
       "      <td>[CH620] 6\" 20ga CH-Stud</td>\n",
       "      <td>43063</td>\n",
       "      <td>[541193, 541128, 261063, 181062, 43063, 161063...</td>\n",
       "    </tr>\n",
       "    <tr>\n",
       "      <th>23</th>\n",
       "      <td>[JT620] 6\" 20ga J-Runner, 10'</td>\n",
       "      <td>94134</td>\n",
       "      <td>[40203, 4063, 40200, 42223, 42011, 40201, 4013...</td>\n",
       "    </tr>\n",
       "    <tr>\n",
       "      <th>24</th>\n",
       "      <td>[T618SLOTTED] 6\" 18ga Slotted Track, 10'</td>\n",
       "      <td>75065</td>\n",
       "      <td>[200144, 541212, 4063, 55352, 55602, 4013, 301...</td>\n",
       "    </tr>\n",
       "  </tbody>\n",
       "</table>\n",
       "</div>"
      ],
      "text/plain": [
       "                                        Customer Name  Product No  \\\n",
       "0                 [CB] Corner Bead - paper faced, 10'       37506   \n",
       "1                     [T35820] 3-5/8\" 20ga Track, 10'      264033   \n",
       "2                           [S35820] 3-5/8\" 20ga Stud      261033   \n",
       "3      [T35820SLOTTED] 3-5/8\" 20ga Slotted track, 10'       76033   \n",
       "4                           [T620] 6\" 20ga Track, 10'      264063   \n",
       "5                                 [S620] 6\" 20ga Stud      261063   \n",
       "6                           [T620] 6\" 20ga Track, 10'       76063   \n",
       "7                     [T15820] 1-5/8\" 20ga Track, 10'      264013   \n",
       "8                           [S15820] 1-5/8\" 20ga Stud      261013   \n",
       "9                     [T15820] 1-5/8\" 20ga Track, 10'      266013   \n",
       "10                      [CH21220] 2-1/2\" 20ga CH-Stud       43253   \n",
       "11                [JT21220] 2-1/2\" 20ga J-Runner, 10'       94132   \n",
       "12                  [FS620] 6\" 20 ga. Flat Stock, 10'       50063   \n",
       "13   [BDCHZ] Corner Bead Horizontal - paper faced, 8'       37506   \n",
       "14     [T35818SLOTTED] 3-5/8\" 18ga Slotted Track, 10'       75035   \n",
       "15                    [T35818] 3-5/8\" 18ga Track, 10'       80035   \n",
       "16                     [S35818] 3-5/8\" 18ga Stud, 21'       15035   \n",
       "17                          [T618] 6\" 18ga Track, 10'       80065   \n",
       "18                                [S618] 6\" 18ga Stud       15065   \n",
       "19  [BLACKIRON] CRC Galv 1-1/2\" 16 Ga Horizontal, 10'       30026   \n",
       "20         [T618CLG] 6\" 18ga Track @ clg framing, 10'       80065   \n",
       "21              [S618CLG] 6\" 18ga Stud @ ceilings, 8'       15065   \n",
       "22                            [CH620] 6\" 20ga CH-Stud       43063   \n",
       "23                      [JT620] 6\" 20ga J-Runner, 10'       94134   \n",
       "24           [T618SLOTTED] 6\" 18ga Slotted Track, 10'       75065   \n",
       "\n",
       "                                          Predictions  \n",
       "0   [182624, 534298, 534360, 309122, 432623, 43403...  \n",
       "1   [541212, 200144, 55385, 55352, 55353, 55354, 2...  \n",
       "2   [541193, 541128, 420204, 200141, 423855, 43053...  \n",
       "3   [541212, 200144, 55385, 55352, 55353, 55354, 4...  \n",
       "4   [541212, 4063, 200144, 55385, 40203, 4013, 301...  \n",
       "5   [541128, 541193, 420204, 200141, 1043, 261063,...  \n",
       "6   [541212, 4063, 200144, 55385, 40203, 4013, 301...  \n",
       "7   [200144, 541212, 3013, 4013, 445184, 228997, 5...  \n",
       "8   [200141, 420204, 541128, 541193, 1013, 230867,...  \n",
       "9   [200144, 541212, 3013, 4013, 445184, 228997, 5...  \n",
       "10  [230966, 541193, 420204, 1023, 2023, 541128, 4...  \n",
       "11  [40200, 42223, 228997, 4023, 541212, 3013, 200...  \n",
       "12  [4063, 541128, 420204, 541193, 200141, 56199, ...  \n",
       "13  [182624, 534298, 534360, 43401, 423629, 43402,...  \n",
       "14  [541212, 200144, 55352, 55353, 55385, 55354, 5...  \n",
       "15  [541212, 200144, 55352, 55354, 55353, 55385, 2...  \n",
       "16  [541193, 541128, 423855, 420204, 200141, 43054...  \n",
       "17  [541212, 200144, 55352, 55602, 4063, 228997, 4...  \n",
       "18  [541128, 200141, 15065, 541193, 420204, 31065,...  \n",
       "19  [402790, 216251, 216248, 40026, 56368, 534153,...  \n",
       "20  [541212, 200144, 4063, 3013, 4013, 55352, 5560...  \n",
       "21  [1061, 43064, 1011, 1021, 2021, 200141, 261063...  \n",
       "22  [541193, 541128, 261063, 181062, 43063, 161063...  \n",
       "23  [40203, 4063, 40200, 42223, 42011, 40201, 4013...  \n",
       "24  [200144, 541212, 4063, 55352, 55602, 4013, 301...  "
      ]
     },
     "execution_count": 42,
     "metadata": {},
     "output_type": "execute_result"
    }
   ],
   "source": [
    "labels_df"
   ]
  },
  {
   "cell_type": "code",
   "execution_count": 43,
   "metadata": {},
   "outputs": [],
   "source": [
    "def calculate_topk_accuracy(df, k):\n",
    "    correct = 0\n",
    "    for index, row in df.iterrows():\n",
    "        if row['Product No'] in row['Predictions'][:k]:\n",
    "            correct += 1\n",
    "    return correct / len(df)"
   ]
  },
  {
   "cell_type": "markdown",
   "metadata": {},
   "source": [
    "## Top 10 accuracy"
   ]
  },
  {
   "cell_type": "code",
   "execution_count": 44,
   "metadata": {},
   "outputs": [
    {
     "data": {
      "text/plain": [
       "0.16"
      ]
     },
     "execution_count": 44,
     "metadata": {},
     "output_type": "execute_result"
    }
   ],
   "source": [
    "calculate_topk_accuracy(labels_df, 10)"
   ]
  },
  {
   "cell_type": "markdown",
   "metadata": {},
   "source": [
    "## Top 5 accuracy"
   ]
  },
  {
   "cell_type": "code",
   "execution_count": 38,
   "metadata": {},
   "outputs": [
    {
     "data": {
      "text/plain": [
       "0.08"
      ]
     },
     "execution_count": 38,
     "metadata": {},
     "output_type": "execute_result"
    }
   ],
   "source": [
    "calculate_topk_accuracy(labels_df, 5)"
   ]
  },
  {
   "cell_type": "code",
   "execution_count": null,
   "metadata": {},
   "outputs": [],
   "source": []
  }
 ],
 "metadata": {
  "kernelspec": {
   "display_name": ".venv",
   "language": "python",
   "name": "python3"
  },
  "language_info": {
   "codemirror_mode": {
    "name": "ipython",
    "version": 3
   },
   "file_extension": ".py",
   "mimetype": "text/x-python",
   "name": "python",
   "nbconvert_exporter": "python",
   "pygments_lexer": "ipython3",
   "version": "3.11.7"
  }
 },
 "nbformat": 4,
 "nbformat_minor": 2
}
