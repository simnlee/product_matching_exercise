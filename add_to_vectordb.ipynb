{
 "cells": [
  {
   "cell_type": "code",
   "execution_count": 1,
   "metadata": {},
   "outputs": [],
   "source": [
    "import getpass\n",
    "import os\n",
    "\n",
    "os.environ[\"OPENAI_API_KEY\"] = getpass.getpass()"
   ]
  },
  {
   "cell_type": "code",
   "execution_count": 2,
   "metadata": {},
   "outputs": [],
   "source": [
    "from langchain_openai import OpenAIEmbeddings\n",
    "from langchain_chroma import Chroma\n",
    "\n",
    "embeddings = OpenAIEmbeddings(model=\"text-embedding-3-small\")\n",
    "vector_store = Chroma(\n",
    "    collection_name=\"collection2\",\n",
    "    embedding_function=embeddings,\n",
    "    persist_directory=\"./chrome_vector_db\",\n",
    ")"
   ]
  },
  {
   "cell_type": "code",
   "execution_count": 3,
   "metadata": {},
   "outputs": [],
   "source": [
    "from pydantic import BaseModel, Field\n",
    "from typing import Optional\n",
    "\n",
    "class Attributes(BaseModel):\n",
    "    length: Optional[float] = Field(default=None, description=\"length in inches. if the name uses different units, convert to inches\")\n",
    "    gauge: Optional[int] = Field(default=None, description=\"gauge in inches. for example, 20ga or 20g refers to 20 gauge\") "
   ]
  },
  {
   "cell_type": "code",
   "execution_count": 4,
   "metadata": {},
   "outputs": [],
   "source": [
    "import pandas as pd\n",
    "\n",
    "catalog_df = pd.read_csv(\"documents/ProductDB_clean.csv\")"
   ]
  },
  {
   "cell_type": "code",
   "execution_count": 5,
   "metadata": {},
   "outputs": [],
   "source": [
    "from langchain_openai import ChatOpenAI\n",
    "\n",
    "model = ChatOpenAI(model=\"gpt-4o-mini-2024-07-18\", temperature=0)\n",
    "structured_llm = model.with_structured_output(Attributes)"
   ]
  },
  {
   "cell_type": "code",
   "execution_count": 6,
   "metadata": {},
   "outputs": [],
   "source": [
    "from langchain_core.prompts.chat import ChatPromptTemplate\n",
    "get_attr_prompt_template = ChatPromptTemplate.from_template(\"Parse all given attributes from the given product name. If the attribute isn't present in the name, or you are unsure, then leave it as None. If a measurement is written like 2-1/2IN, then the measurement is 2.5 in. \\nProduct Name: {product_name}\")"
   ]
  },
  {
   "cell_type": "code",
   "execution_count": 7,
   "metadata": {},
   "outputs": [],
   "source": [
    "productdb_df = pd.read_csv('documents/productdb_subset.csv')"
   ]
  },
  {
   "cell_type": "code",
   "execution_count": 10,
   "metadata": {},
   "outputs": [
    {
     "name": "stdout",
     "output_type": "stream",
     "text": [
      "Added document 1/22 with name STRUCTURAL STUD 3-5/8IN 18G 1-5/8IN FL 362S162-43 (18G) and attributes length 1.625 and gauge 18\n",
      "Added document 2/22 with name STRUCTURAL STUD 6IN 18G 1-5/8IN FL 600S162-43 (18G) and attributes length 6.0 and gauge 18\n",
      "Added document 3/22 with name ProSTUD20 1-5/8IN DRYWALL STUD 162PDS125-18 (20EQ) and attributes length 1.625 and gauge 20\n",
      "Added document 4/22 with name ProSTUD20 3-5/8IN DRYWALL STUD 362PDS125-18 (20EQ) and attributes length 3.625 and gauge 20\n",
      "Added document 5/22 with name ProSTUD20 6IN DRYWALL STUD 600PDS125-18 (20EQ) and attributes length 6.0 and gauge 20\n",
      "Added document 6/22 with name ProTRAK20 1-5/8IN DW TRACK 1-1/4IN LEG 162PDT125-18 (20EQ) and attributes length 1.625 and gauge 20\n",
      "Added document 7/22 with name ProTRAK20 3-5/8IN DW TRACK 1-1/4IN LEG 362PDT125-18 (20EQ) and attributes length 3.625 and gauge 20\n",
      "Added document 8/22 with name ProTRAK20 6IN DRYWALL TRACK 1-1/4IN LEG 600PDT125-18 (20EQ) and attributes length 6.0 and gauge 20\n",
      "Added document 9/22 with name ProTRAK20 1-5/8IN DRYWALL TRACK 2IN LEG 162PDT200-18 (20EQ) and attributes length 2.5 and gauge 20\n",
      "Added document 10/22 with name 150U50-54(CRC-16G) nan and attributes length None and gauge 16\n",
      "Added document 11/22 with name CD1-SWE or P1-SU(1-1/8IN SQUARE OUTSIDE) nan and attributes length 1.125 and gauge None\n",
      "Added document 12/22 with name 6 IN CT SHAFTWALL STUD (20G) 600CT-33 and attributes length 6.0 and gauge 20\n",
      "Added document 13/22 with name 2 1/2 IN CT SHAFTWALL STUD (20G) 250CT-33 and attributes length 2.5 and gauge 20\n",
      "Added document 14/22 with name STRAP 6-20GA nan and attributes length None and gauge 20\n",
      "Added document 15/22 with name 3 5/8 IN MAXTRAK 18GA 362SLT250-43 and attributes length 3.625 and gauge 18\n",
      "Added document 16/22 with name 6 IN MAXTRAK 18GA 600SLT250-43 and attributes length 6.0 and gauge 18\n",
      "Added document 17/22 with name 3 5/8 IN MAXTRAK 30MIL 362SLT250-30 and attributes length 3.625 and gauge 30\n",
      "Added document 18/22 with name 6 IN MAXTRAK 30MIL 600SLT250-30 and attributes length 6.0 and gauge 30\n",
      "Added document 19/22 with name STR TRACK 3-5/8IN 18G 1-1/4IN LEGS 362T125-43 (18G) and attributes length 3.625 and gauge 18\n",
      "Added document 20/22 with name STRUCTURAL TRACK 6IN 18G 1-1/4IN LEGS 600T125-43 (18G) and attributes length 6.0 and gauge 18\n",
      "Added document 21/22 with name 2.5IN TABBED J-TRACK 2.25L (20G) 250JR-33 and attributes length 2.5 and gauge 20\n",
      "Added document 22/22 with name 6in TABBED J-TRACK 2.25L (20G) 600JR-33 and attributes length 6.0 and gauge 20\n"
     ]
    }
   ],
   "source": [
    "from langchain_core.documents import Document\n",
    "for index, row in productdb_df.iterrows():\n",
    "    product_name = str(row[\"NAME\"])\n",
    "    alias = str(row[\"ALIAS\"])\n",
    "    name = product_name + \" \" + alias\n",
    "    get_attr_prompt = get_attr_prompt_template.invoke({'product_name': name})\n",
    "    parsed_attributes = structured_llm.invoke(get_attr_prompt)\n",
    "    attr_dict = dict(parsed_attributes)\n",
    "    metadata = {key:val for key, val in attr_dict.items() if val is not None}\n",
    "    metadata['PRODUCT_NO'] = row[\"PRODUCT_NO\"]\n",
    "    document = Document(page_content=name, metadata=metadata)\n",
    "    vector_store.add_documents([document])\n",
    "    print(f\"Added document {index+1}/{len(productdb_df)} with name {name} and attributes length {attr_dict['length']} and gauge {attr_dict['gauge']}\")"
   ]
  },
  {
   "cell_type": "code",
   "execution_count": null,
   "metadata": {},
   "outputs": [],
   "source": []
  }
 ],
 "metadata": {
  "kernelspec": {
   "display_name": ".venv",
   "language": "python",
   "name": "python3"
  },
  "language_info": {
   "codemirror_mode": {
    "name": "ipython",
    "version": 3
   },
   "file_extension": ".py",
   "mimetype": "text/x-python",
   "name": "python",
   "nbconvert_exporter": "python",
   "pygments_lexer": "ipython3",
   "version": "3.11.7"
  }
 },
 "nbformat": 4,
 "nbformat_minor": 2
}
